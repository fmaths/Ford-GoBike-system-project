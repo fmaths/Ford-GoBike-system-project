{
 "cells": [
  {
   "cell_type": "markdown",
   "metadata": {},
   "source": [
    "# Part I - Ford GoBike System Data\n",
    "## by Fidelis Mukudi\n",
    "\n",
    "## Introduction\n",
    "The project is about creating visualization for <a href='https://video.udacity-data.com/topher/2020/October/5f91cf38_201902-fordgobike-tripdata/201902-fordgobike-tripdata.csv'> Ford GoBike System Data </a>. The data contains details rides of people of diferent age and sex from different stations. It has has 183412 rows and 16 columns. The variable of interest is the duration of riding. We wish to analyze how duration of riding varies with different variables such as age, sex, bike share, user type and twelve most common start station ids. \n",
    "\n",
    "\n",
    "## Preliminary Wrangling\n"
   ]
  },
  {
   "cell_type": "code",
   "execution_count": 1,
   "metadata": {},
   "outputs": [],
   "source": [
    "# import all packages and set plots to be embedded inline\n",
    "%matplotlib inline\n",
    "\n",
    "import numpy as np\n",
    "import pandas as pd\n",
    "import matplotlib.pyplot as plt\n",
    "import seaborn as sns\n",
    "\n",
    "import requests\n"
   ]
  },
  {
   "cell_type": "code",
   "execution_count": 2,
   "metadata": {},
   "outputs": [],
   "source": [
    "# programmtical extract the data and save it in a csv file\n",
    "url='https://video.udacity-data.com/topher/2020/October/5f91cf38_201902-fordgobike-tripdata/201902-fordgobike-tripdata.csv'\n",
    "response=requests.get(url)\n",
    "\n",
    "with open('fordgobike-tripdata.csv', 'wb') as file:\n",
    "    file.write(response.content)"
   ]
  },
  {
   "cell_type": "code",
   "execution_count": 3,
   "metadata": {},
   "outputs": [],
   "source": [
    "# create a data frame and have an overview of the data\n",
    "bike_data=pd.read_csv('fordgobike-tripdata.csv')"
   ]
  },
  {
   "cell_type": "code",
   "execution_count": 4,
   "metadata": {},
   "outputs": [
    {
     "data": {
      "text/html": [
       "<div>\n",
       "<style scoped>\n",
       "    .dataframe tbody tr th:only-of-type {\n",
       "        vertical-align: middle;\n",
       "    }\n",
       "\n",
       "    .dataframe tbody tr th {\n",
       "        vertical-align: top;\n",
       "    }\n",
       "\n",
       "    .dataframe thead th {\n",
       "        text-align: right;\n",
       "    }\n",
       "</style>\n",
       "<table border=\"1\" class=\"dataframe\">\n",
       "  <thead>\n",
       "    <tr style=\"text-align: right;\">\n",
       "      <th></th>\n",
       "      <th>duration_sec</th>\n",
       "      <th>start_time</th>\n",
       "      <th>end_time</th>\n",
       "      <th>start_station_id</th>\n",
       "      <th>start_station_name</th>\n",
       "      <th>start_station_latitude</th>\n",
       "      <th>start_station_longitude</th>\n",
       "      <th>end_station_id</th>\n",
       "      <th>end_station_name</th>\n",
       "      <th>end_station_latitude</th>\n",
       "      <th>end_station_longitude</th>\n",
       "      <th>bike_id</th>\n",
       "      <th>user_type</th>\n",
       "      <th>member_birth_year</th>\n",
       "      <th>member_gender</th>\n",
       "      <th>bike_share_for_all_trip</th>\n",
       "    </tr>\n",
       "  </thead>\n",
       "  <tbody>\n",
       "    <tr>\n",
       "      <th>0</th>\n",
       "      <td>52185</td>\n",
       "      <td>2019-02-28 17:32:10.1450</td>\n",
       "      <td>2019-03-01 08:01:55.9750</td>\n",
       "      <td>21.0</td>\n",
       "      <td>Montgomery St BART Station (Market St at 2nd St)</td>\n",
       "      <td>37.789625</td>\n",
       "      <td>-122.400811</td>\n",
       "      <td>13.0</td>\n",
       "      <td>Commercial St at Montgomery St</td>\n",
       "      <td>37.794231</td>\n",
       "      <td>-122.402923</td>\n",
       "      <td>4902</td>\n",
       "      <td>Customer</td>\n",
       "      <td>1984.0</td>\n",
       "      <td>Male</td>\n",
       "      <td>No</td>\n",
       "    </tr>\n",
       "    <tr>\n",
       "      <th>1</th>\n",
       "      <td>42521</td>\n",
       "      <td>2019-02-28 18:53:21.7890</td>\n",
       "      <td>2019-03-01 06:42:03.0560</td>\n",
       "      <td>23.0</td>\n",
       "      <td>The Embarcadero at Steuart St</td>\n",
       "      <td>37.791464</td>\n",
       "      <td>-122.391034</td>\n",
       "      <td>81.0</td>\n",
       "      <td>Berry St at 4th St</td>\n",
       "      <td>37.775880</td>\n",
       "      <td>-122.393170</td>\n",
       "      <td>2535</td>\n",
       "      <td>Customer</td>\n",
       "      <td>NaN</td>\n",
       "      <td>NaN</td>\n",
       "      <td>No</td>\n",
       "    </tr>\n",
       "    <tr>\n",
       "      <th>2</th>\n",
       "      <td>61854</td>\n",
       "      <td>2019-02-28 12:13:13.2180</td>\n",
       "      <td>2019-03-01 05:24:08.1460</td>\n",
       "      <td>86.0</td>\n",
       "      <td>Market St at Dolores St</td>\n",
       "      <td>37.769305</td>\n",
       "      <td>-122.426826</td>\n",
       "      <td>3.0</td>\n",
       "      <td>Powell St BART Station (Market St at 4th St)</td>\n",
       "      <td>37.786375</td>\n",
       "      <td>-122.404904</td>\n",
       "      <td>5905</td>\n",
       "      <td>Customer</td>\n",
       "      <td>1972.0</td>\n",
       "      <td>Male</td>\n",
       "      <td>No</td>\n",
       "    </tr>\n",
       "  </tbody>\n",
       "</table>\n",
       "</div>"
      ],
      "text/plain": [
       "   duration_sec                start_time                  end_time  \\\n",
       "0         52185  2019-02-28 17:32:10.1450  2019-03-01 08:01:55.9750   \n",
       "1         42521  2019-02-28 18:53:21.7890  2019-03-01 06:42:03.0560   \n",
       "2         61854  2019-02-28 12:13:13.2180  2019-03-01 05:24:08.1460   \n",
       "\n",
       "   start_station_id                                start_station_name  \\\n",
       "0              21.0  Montgomery St BART Station (Market St at 2nd St)   \n",
       "1              23.0                     The Embarcadero at Steuart St   \n",
       "2              86.0                           Market St at Dolores St   \n",
       "\n",
       "   start_station_latitude  start_station_longitude  end_station_id  \\\n",
       "0               37.789625              -122.400811            13.0   \n",
       "1               37.791464              -122.391034            81.0   \n",
       "2               37.769305              -122.426826             3.0   \n",
       "\n",
       "                               end_station_name  end_station_latitude  \\\n",
       "0                Commercial St at Montgomery St             37.794231   \n",
       "1                            Berry St at 4th St             37.775880   \n",
       "2  Powell St BART Station (Market St at 4th St)             37.786375   \n",
       "\n",
       "   end_station_longitude  bike_id user_type  member_birth_year member_gender  \\\n",
       "0            -122.402923     4902  Customer             1984.0          Male   \n",
       "1            -122.393170     2535  Customer                NaN           NaN   \n",
       "2            -122.404904     5905  Customer             1972.0          Male   \n",
       "\n",
       "  bike_share_for_all_trip  \n",
       "0                      No  \n",
       "1                      No  \n",
       "2                      No  "
      ]
     },
     "execution_count": 4,
     "metadata": {},
     "output_type": "execute_result"
    }
   ],
   "source": [
    "#preview the data\n",
    "bike_data.head(3)"
   ]
  },
  {
   "cell_type": "code",
   "execution_count": 5,
   "metadata": {},
   "outputs": [
    {
     "name": "stdout",
     "output_type": "stream",
     "text": [
      "shape: (183412, 16)\n",
      "<class 'pandas.core.frame.DataFrame'>\n",
      "RangeIndex: 183412 entries, 0 to 183411\n",
      "Data columns (total 16 columns):\n",
      " #   Column                   Non-Null Count   Dtype  \n",
      "---  ------                   --------------   -----  \n",
      " 0   duration_sec             183412 non-null  int64  \n",
      " 1   start_time               183412 non-null  object \n",
      " 2   end_time                 183412 non-null  object \n",
      " 3   start_station_id         183215 non-null  float64\n",
      " 4   start_station_name       183215 non-null  object \n",
      " 5   start_station_latitude   183412 non-null  float64\n",
      " 6   start_station_longitude  183412 non-null  float64\n",
      " 7   end_station_id           183215 non-null  float64\n",
      " 8   end_station_name         183215 non-null  object \n",
      " 9   end_station_latitude     183412 non-null  float64\n",
      " 10  end_station_longitude    183412 non-null  float64\n",
      " 11  bike_id                  183412 non-null  int64  \n",
      " 12  user_type                183412 non-null  object \n",
      " 13  member_birth_year        175147 non-null  float64\n",
      " 14  member_gender            175147 non-null  object \n",
      " 15  bike_share_for_all_trip  183412 non-null  object \n",
      "dtypes: float64(7), int64(2), object(7)\n",
      "memory usage: 22.4+ MB\n",
      "column details: None\n"
     ]
    }
   ],
   "source": [
    "print('shape:', bike_data.shape)\n",
    "print('column details:', bike_data.info())"
   ]
  },
  {
   "cell_type": "code",
   "execution_count": 6,
   "metadata": {
    "scrolled": true
   },
   "outputs": [
    {
     "data": {
      "text/html": [
       "<div>\n",
       "<style scoped>\n",
       "    .dataframe tbody tr th:only-of-type {\n",
       "        vertical-align: middle;\n",
       "    }\n",
       "\n",
       "    .dataframe tbody tr th {\n",
       "        vertical-align: top;\n",
       "    }\n",
       "\n",
       "    .dataframe thead th {\n",
       "        text-align: right;\n",
       "    }\n",
       "</style>\n",
       "<table border=\"1\" class=\"dataframe\">\n",
       "  <thead>\n",
       "    <tr style=\"text-align: right;\">\n",
       "      <th></th>\n",
       "      <th>duration_sec</th>\n",
       "      <th>start_station_id</th>\n",
       "      <th>start_station_latitude</th>\n",
       "      <th>start_station_longitude</th>\n",
       "      <th>end_station_id</th>\n",
       "      <th>end_station_latitude</th>\n",
       "      <th>end_station_longitude</th>\n",
       "      <th>bike_id</th>\n",
       "      <th>member_birth_year</th>\n",
       "    </tr>\n",
       "  </thead>\n",
       "  <tbody>\n",
       "    <tr>\n",
       "      <th>count</th>\n",
       "      <td>183412.000000</td>\n",
       "      <td>183215.000000</td>\n",
       "      <td>183412.000000</td>\n",
       "      <td>183412.000000</td>\n",
       "      <td>183215.000000</td>\n",
       "      <td>183412.000000</td>\n",
       "      <td>183412.000000</td>\n",
       "      <td>183412.000000</td>\n",
       "      <td>175147.000000</td>\n",
       "    </tr>\n",
       "    <tr>\n",
       "      <th>mean</th>\n",
       "      <td>726.078435</td>\n",
       "      <td>138.590427</td>\n",
       "      <td>37.771223</td>\n",
       "      <td>-122.352664</td>\n",
       "      <td>136.249123</td>\n",
       "      <td>37.771427</td>\n",
       "      <td>-122.352250</td>\n",
       "      <td>4472.906375</td>\n",
       "      <td>1984.806437</td>\n",
       "    </tr>\n",
       "    <tr>\n",
       "      <th>std</th>\n",
       "      <td>1794.389780</td>\n",
       "      <td>111.778864</td>\n",
       "      <td>0.099581</td>\n",
       "      <td>0.117097</td>\n",
       "      <td>111.515131</td>\n",
       "      <td>0.099490</td>\n",
       "      <td>0.116673</td>\n",
       "      <td>1664.383394</td>\n",
       "      <td>10.116689</td>\n",
       "    </tr>\n",
       "    <tr>\n",
       "      <th>min</th>\n",
       "      <td>61.000000</td>\n",
       "      <td>3.000000</td>\n",
       "      <td>37.317298</td>\n",
       "      <td>-122.453704</td>\n",
       "      <td>3.000000</td>\n",
       "      <td>37.317298</td>\n",
       "      <td>-122.453704</td>\n",
       "      <td>11.000000</td>\n",
       "      <td>1878.000000</td>\n",
       "    </tr>\n",
       "    <tr>\n",
       "      <th>25%</th>\n",
       "      <td>325.000000</td>\n",
       "      <td>47.000000</td>\n",
       "      <td>37.770083</td>\n",
       "      <td>-122.412408</td>\n",
       "      <td>44.000000</td>\n",
       "      <td>37.770407</td>\n",
       "      <td>-122.411726</td>\n",
       "      <td>3777.000000</td>\n",
       "      <td>1980.000000</td>\n",
       "    </tr>\n",
       "    <tr>\n",
       "      <th>50%</th>\n",
       "      <td>514.000000</td>\n",
       "      <td>104.000000</td>\n",
       "      <td>37.780760</td>\n",
       "      <td>-122.398285</td>\n",
       "      <td>100.000000</td>\n",
       "      <td>37.781010</td>\n",
       "      <td>-122.398279</td>\n",
       "      <td>4958.000000</td>\n",
       "      <td>1987.000000</td>\n",
       "    </tr>\n",
       "    <tr>\n",
       "      <th>75%</th>\n",
       "      <td>796.000000</td>\n",
       "      <td>239.000000</td>\n",
       "      <td>37.797280</td>\n",
       "      <td>-122.286533</td>\n",
       "      <td>235.000000</td>\n",
       "      <td>37.797320</td>\n",
       "      <td>-122.288045</td>\n",
       "      <td>5502.000000</td>\n",
       "      <td>1992.000000</td>\n",
       "    </tr>\n",
       "    <tr>\n",
       "      <th>max</th>\n",
       "      <td>85444.000000</td>\n",
       "      <td>398.000000</td>\n",
       "      <td>37.880222</td>\n",
       "      <td>-121.874119</td>\n",
       "      <td>398.000000</td>\n",
       "      <td>37.880222</td>\n",
       "      <td>-121.874119</td>\n",
       "      <td>6645.000000</td>\n",
       "      <td>2001.000000</td>\n",
       "    </tr>\n",
       "  </tbody>\n",
       "</table>\n",
       "</div>"
      ],
      "text/plain": [
       "        duration_sec  start_station_id  start_station_latitude  \\\n",
       "count  183412.000000     183215.000000           183412.000000   \n",
       "mean      726.078435        138.590427               37.771223   \n",
       "std      1794.389780        111.778864                0.099581   \n",
       "min        61.000000          3.000000               37.317298   \n",
       "25%       325.000000         47.000000               37.770083   \n",
       "50%       514.000000        104.000000               37.780760   \n",
       "75%       796.000000        239.000000               37.797280   \n",
       "max     85444.000000        398.000000               37.880222   \n",
       "\n",
       "       start_station_longitude  end_station_id  end_station_latitude  \\\n",
       "count            183412.000000   183215.000000         183412.000000   \n",
       "mean               -122.352664      136.249123             37.771427   \n",
       "std                   0.117097      111.515131              0.099490   \n",
       "min                -122.453704        3.000000             37.317298   \n",
       "25%                -122.412408       44.000000             37.770407   \n",
       "50%                -122.398285      100.000000             37.781010   \n",
       "75%                -122.286533      235.000000             37.797320   \n",
       "max                -121.874119      398.000000             37.880222   \n",
       "\n",
       "       end_station_longitude        bike_id  member_birth_year  \n",
       "count          183412.000000  183412.000000      175147.000000  \n",
       "mean             -122.352250    4472.906375        1984.806437  \n",
       "std                 0.116673    1664.383394          10.116689  \n",
       "min              -122.453704      11.000000        1878.000000  \n",
       "25%              -122.411726    3777.000000        1980.000000  \n",
       "50%              -122.398279    4958.000000        1987.000000  \n",
       "75%              -122.288045    5502.000000        1992.000000  \n",
       "max              -121.874119    6645.000000        2001.000000  "
      ]
     },
     "execution_count": 6,
     "metadata": {},
     "output_type": "execute_result"
    }
   ],
   "source": [
    "bike_data.describe()"
   ]
  },
  {
   "cell_type": "code",
   "execution_count": 7,
   "metadata": {},
   "outputs": [
    {
     "data": {
      "text/plain": [
       "array(['duration_sec', 'start_time', 'end_time', 'start_station_id',\n",
       "       'start_station_name', 'start_station_latitude',\n",
       "       'start_station_longitude', 'end_station_id', 'end_station_name',\n",
       "       'end_station_latitude', 'end_station_longitude', 'bike_id',\n",
       "       'user_type', 'member_birth_year', 'member_gender',\n",
       "       'bike_share_for_all_trip'], dtype=object)"
      ]
     },
     "execution_count": 7,
     "metadata": {},
     "output_type": "execute_result"
    }
   ],
   "source": [
    "bike_data.columns.values"
   ]
  },
  {
   "cell_type": "code",
   "execution_count": 8,
   "metadata": {
    "scrolled": true
   },
   "outputs": [
    {
     "data": {
      "text/html": [
       "<div>\n",
       "<style scoped>\n",
       "    .dataframe tbody tr th:only-of-type {\n",
       "        vertical-align: middle;\n",
       "    }\n",
       "\n",
       "    .dataframe tbody tr th {\n",
       "        vertical-align: top;\n",
       "    }\n",
       "\n",
       "    .dataframe thead th {\n",
       "        text-align: right;\n",
       "    }\n",
       "</style>\n",
       "<table border=\"1\" class=\"dataframe\">\n",
       "  <thead>\n",
       "    <tr style=\"text-align: right;\">\n",
       "      <th></th>\n",
       "      <th>duration_sec</th>\n",
       "      <th>start_time</th>\n",
       "      <th>end_time</th>\n",
       "      <th>start_station_id</th>\n",
       "      <th>start_station_name</th>\n",
       "      <th>start_station_latitude</th>\n",
       "      <th>start_station_longitude</th>\n",
       "      <th>end_station_id</th>\n",
       "      <th>end_station_name</th>\n",
       "      <th>end_station_latitude</th>\n",
       "      <th>end_station_longitude</th>\n",
       "      <th>bike_id</th>\n",
       "      <th>user_type</th>\n",
       "      <th>member_birth_year</th>\n",
       "      <th>member_gender</th>\n",
       "      <th>bike_share_for_all_trip</th>\n",
       "    </tr>\n",
       "  </thead>\n",
       "  <tbody>\n",
       "    <tr>\n",
       "      <th>0</th>\n",
       "      <td>52185</td>\n",
       "      <td>2019-02-28 17:32:10.1450</td>\n",
       "      <td>2019-03-01 08:01:55.9750</td>\n",
       "      <td>21.0</td>\n",
       "      <td>Montgomery St BART Station (Market St at 2nd St)</td>\n",
       "      <td>37.789625</td>\n",
       "      <td>-122.400811</td>\n",
       "      <td>13.0</td>\n",
       "      <td>Commercial St at Montgomery St</td>\n",
       "      <td>37.794231</td>\n",
       "      <td>-122.402923</td>\n",
       "      <td>4902</td>\n",
       "      <td>Customer</td>\n",
       "      <td>1984.0</td>\n",
       "      <td>Male</td>\n",
       "      <td>No</td>\n",
       "    </tr>\n",
       "    <tr>\n",
       "      <th>1</th>\n",
       "      <td>42521</td>\n",
       "      <td>2019-02-28 18:53:21.7890</td>\n",
       "      <td>2019-03-01 06:42:03.0560</td>\n",
       "      <td>23.0</td>\n",
       "      <td>The Embarcadero at Steuart St</td>\n",
       "      <td>37.791464</td>\n",
       "      <td>-122.391034</td>\n",
       "      <td>81.0</td>\n",
       "      <td>Berry St at 4th St</td>\n",
       "      <td>37.775880</td>\n",
       "      <td>-122.393170</td>\n",
       "      <td>2535</td>\n",
       "      <td>Customer</td>\n",
       "      <td>NaN</td>\n",
       "      <td>NaN</td>\n",
       "      <td>No</td>\n",
       "    </tr>\n",
       "    <tr>\n",
       "      <th>2</th>\n",
       "      <td>61854</td>\n",
       "      <td>2019-02-28 12:13:13.2180</td>\n",
       "      <td>2019-03-01 05:24:08.1460</td>\n",
       "      <td>86.0</td>\n",
       "      <td>Market St at Dolores St</td>\n",
       "      <td>37.769305</td>\n",
       "      <td>-122.426826</td>\n",
       "      <td>3.0</td>\n",
       "      <td>Powell St BART Station (Market St at 4th St)</td>\n",
       "      <td>37.786375</td>\n",
       "      <td>-122.404904</td>\n",
       "      <td>5905</td>\n",
       "      <td>Customer</td>\n",
       "      <td>1972.0</td>\n",
       "      <td>Male</td>\n",
       "      <td>No</td>\n",
       "    </tr>\n",
       "    <tr>\n",
       "      <th>3</th>\n",
       "      <td>36490</td>\n",
       "      <td>2019-02-28 17:54:26.0100</td>\n",
       "      <td>2019-03-01 04:02:36.8420</td>\n",
       "      <td>375.0</td>\n",
       "      <td>Grove St at Masonic Ave</td>\n",
       "      <td>37.774836</td>\n",
       "      <td>-122.446546</td>\n",
       "      <td>70.0</td>\n",
       "      <td>Central Ave at Fell St</td>\n",
       "      <td>37.773311</td>\n",
       "      <td>-122.444293</td>\n",
       "      <td>6638</td>\n",
       "      <td>Subscriber</td>\n",
       "      <td>1989.0</td>\n",
       "      <td>Other</td>\n",
       "      <td>No</td>\n",
       "    </tr>\n",
       "  </tbody>\n",
       "</table>\n",
       "</div>"
      ],
      "text/plain": [
       "   duration_sec                start_time                  end_time  \\\n",
       "0         52185  2019-02-28 17:32:10.1450  2019-03-01 08:01:55.9750   \n",
       "1         42521  2019-02-28 18:53:21.7890  2019-03-01 06:42:03.0560   \n",
       "2         61854  2019-02-28 12:13:13.2180  2019-03-01 05:24:08.1460   \n",
       "3         36490  2019-02-28 17:54:26.0100  2019-03-01 04:02:36.8420   \n",
       "\n",
       "   start_station_id                                start_station_name  \\\n",
       "0              21.0  Montgomery St BART Station (Market St at 2nd St)   \n",
       "1              23.0                     The Embarcadero at Steuart St   \n",
       "2              86.0                           Market St at Dolores St   \n",
       "3             375.0                           Grove St at Masonic Ave   \n",
       "\n",
       "   start_station_latitude  start_station_longitude  end_station_id  \\\n",
       "0               37.789625              -122.400811            13.0   \n",
       "1               37.791464              -122.391034            81.0   \n",
       "2               37.769305              -122.426826             3.0   \n",
       "3               37.774836              -122.446546            70.0   \n",
       "\n",
       "                               end_station_name  end_station_latitude  \\\n",
       "0                Commercial St at Montgomery St             37.794231   \n",
       "1                            Berry St at 4th St             37.775880   \n",
       "2  Powell St BART Station (Market St at 4th St)             37.786375   \n",
       "3                        Central Ave at Fell St             37.773311   \n",
       "\n",
       "   end_station_longitude  bike_id   user_type  member_birth_year  \\\n",
       "0            -122.402923     4902    Customer             1984.0   \n",
       "1            -122.393170     2535    Customer                NaN   \n",
       "2            -122.404904     5905    Customer             1972.0   \n",
       "3            -122.444293     6638  Subscriber             1989.0   \n",
       "\n",
       "  member_gender bike_share_for_all_trip  \n",
       "0          Male                      No  \n",
       "1           NaN                      No  \n",
       "2          Male                      No  \n",
       "3         Other                      No  "
      ]
     },
     "execution_count": 8,
     "metadata": {},
     "output_type": "execute_result"
    }
   ],
   "source": [
    "bike_data.head(4)"
   ]
  },
  {
   "cell_type": "markdown",
   "metadata": {},
   "source": [
    "We have a look at the variables that may be of interest"
   ]
  },
  {
   "cell_type": "code",
   "execution_count": 9,
   "metadata": {},
   "outputs": [
    {
     "data": {
      "text/plain": [
       "58.0     3904\n",
       "67.0     3544\n",
       "81.0     3052\n",
       "21.0     2895\n",
       "3.0      2760\n",
       "         ... \n",
       "301.0       9\n",
       "51.0        7\n",
       "300.0       4\n",
       "224.0       4\n",
       "344.0       2\n",
       "Name: start_station_id, Length: 329, dtype: int64"
      ]
     },
     "execution_count": 9,
     "metadata": {},
     "output_type": "execute_result"
    }
   ],
   "source": [
    "#summary of stat_station_id\n",
    "bike_data['start_station_id'].value_counts()"
   ]
  },
  {
   "cell_type": "code",
   "execution_count": 10,
   "metadata": {
    "scrolled": false
   },
   "outputs": [
    {
     "data": {
      "text/plain": [
       "Market St at 10th St                                         3904\n",
       "San Francisco Caltrain Station 2  (Townsend St at 4th St)    3544\n",
       "Berry St at 4th St                                           3052\n",
       "Montgomery St BART Station (Market St at 2nd St)             2895\n",
       "Powell St BART Station (Market St at 4th St)                 2760\n",
       "                                                             ... \n",
       "Willow St at Vine St                                            9\n",
       "Parker Ave at McAllister St                                     7\n",
       "Palm St at Willow St                                            4\n",
       "21st Ave at International Blvd                                  4\n",
       "16th St Depot                                                   2\n",
       "Name: start_station_name, Length: 329, dtype: int64"
      ]
     },
     "execution_count": 10,
     "metadata": {},
     "output_type": "execute_result"
    }
   ],
   "source": [
    "#summary of start_station_name\n",
    "bike_data['start_station_name'].value_counts()"
   ]
  },
  {
   "cell_type": "markdown",
   "metadata": {},
   "source": [
    "There are many starting points. We may only focus on the first 12 stations"
   ]
  },
  {
   "cell_type": "code",
   "execution_count": 11,
   "metadata": {},
   "outputs": [
    {
     "data": {
      "text/plain": [
       "4794    191\n",
       "4814    176\n",
       "5014    174\n",
       "4422    174\n",
       "5175    173\n",
       "       ... \n",
       "2297      1\n",
       "2258      1\n",
       "2415      1\n",
       "1397      1\n",
       "5067      1\n",
       "Name: bike_id, Length: 4646, dtype: int64"
      ]
     },
     "execution_count": 11,
     "metadata": {},
     "output_type": "execute_result"
    }
   ],
   "source": [
    "#summary of bike_id\n",
    "bike_data['bike_id'].value_counts()"
   ]
  },
  {
   "cell_type": "code",
   "execution_count": 12,
   "metadata": {},
   "outputs": [
    {
     "data": {
      "text/plain": [
       "Subscriber    163544\n",
       "Customer       19868\n",
       "Name: user_type, dtype: int64"
      ]
     },
     "execution_count": 12,
     "metadata": {},
     "output_type": "execute_result"
    }
   ],
   "source": [
    "#summary of user_type\n",
    "bike_data['user_type'].value_counts()"
   ]
  },
  {
   "cell_type": "code",
   "execution_count": 13,
   "metadata": {},
   "outputs": [
    {
     "data": {
      "text/plain": [
       "No     166053\n",
       "Yes     17359\n",
       "Name: bike_share_for_all_trip, dtype: int64"
      ]
     },
     "execution_count": 13,
     "metadata": {},
     "output_type": "execute_result"
    }
   ],
   "source": [
    "#summary of bike_share_for_all_trip\n",
    "bike_data['bike_share_for_all_trip'].value_counts()"
   ]
  },
  {
   "cell_type": "code",
   "execution_count": 14,
   "metadata": {},
   "outputs": [
    {
     "data": {
      "text/plain": [
       "Male      130651\n",
       "Female     40844\n",
       "Other       3652\n",
       "Name: member_gender, dtype: int64"
      ]
     },
     "execution_count": 14,
     "metadata": {},
     "output_type": "execute_result"
    }
   ],
   "source": [
    "#summary of member_gender\n",
    "bike_data['member_gender'].value_counts()"
   ]
  },
  {
   "cell_type": "code",
   "execution_count": 15,
   "metadata": {},
   "outputs": [
    {
     "data": {
      "text/plain": [
       "6"
      ]
     },
     "execution_count": 15,
     "metadata": {},
     "output_type": "execute_result"
    }
   ],
   "source": [
    "#Check the rows that have null values then drop them\n",
    "bike_data.isna().any().sum()"
   ]
  },
  {
   "cell_type": "code",
   "execution_count": 16,
   "metadata": {},
   "outputs": [],
   "source": [
    "bike_data.dropna(inplace=True)"
   ]
  },
  {
   "cell_type": "code",
   "execution_count": 17,
   "metadata": {},
   "outputs": [
    {
     "data": {
      "text/plain": [
       "0"
      ]
     },
     "execution_count": 17,
     "metadata": {},
     "output_type": "execute_result"
    }
   ],
   "source": [
    "#Test if we have removed the null values\n",
    "bike_data.isna().any().sum()"
   ]
  },
  {
   "cell_type": "code",
   "execution_count": 18,
   "metadata": {},
   "outputs": [
    {
     "data": {
      "text/html": [
       "<div>\n",
       "<style scoped>\n",
       "    .dataframe tbody tr th:only-of-type {\n",
       "        vertical-align: middle;\n",
       "    }\n",
       "\n",
       "    .dataframe tbody tr th {\n",
       "        vertical-align: top;\n",
       "    }\n",
       "\n",
       "    .dataframe thead th {\n",
       "        text-align: right;\n",
       "    }\n",
       "</style>\n",
       "<table border=\"1\" class=\"dataframe\">\n",
       "  <thead>\n",
       "    <tr style=\"text-align: right;\">\n",
       "      <th></th>\n",
       "      <th>duration_sec</th>\n",
       "      <th>start_time</th>\n",
       "      <th>end_time</th>\n",
       "      <th>start_station_id</th>\n",
       "      <th>start_station_name</th>\n",
       "      <th>start_station_latitude</th>\n",
       "      <th>start_station_longitude</th>\n",
       "      <th>end_station_id</th>\n",
       "      <th>end_station_name</th>\n",
       "      <th>end_station_latitude</th>\n",
       "      <th>end_station_longitude</th>\n",
       "      <th>bike_id</th>\n",
       "      <th>user_type</th>\n",
       "      <th>member_birth_year</th>\n",
       "      <th>member_gender</th>\n",
       "      <th>bike_share_for_all_trip</th>\n",
       "    </tr>\n",
       "  </thead>\n",
       "  <tbody>\n",
       "    <tr>\n",
       "      <th>0</th>\n",
       "      <td>52185</td>\n",
       "      <td>2019-02-28 17:32:10.1450</td>\n",
       "      <td>2019-03-01 08:01:55.9750</td>\n",
       "      <td>21.0</td>\n",
       "      <td>Montgomery St BART Station (Market St at 2nd St)</td>\n",
       "      <td>37.789625</td>\n",
       "      <td>-122.400811</td>\n",
       "      <td>13.0</td>\n",
       "      <td>Commercial St at Montgomery St</td>\n",
       "      <td>37.794231</td>\n",
       "      <td>-122.402923</td>\n",
       "      <td>4902</td>\n",
       "      <td>Customer</td>\n",
       "      <td>1984.0</td>\n",
       "      <td>Male</td>\n",
       "      <td>No</td>\n",
       "    </tr>\n",
       "    <tr>\n",
       "      <th>2</th>\n",
       "      <td>61854</td>\n",
       "      <td>2019-02-28 12:13:13.2180</td>\n",
       "      <td>2019-03-01 05:24:08.1460</td>\n",
       "      <td>86.0</td>\n",
       "      <td>Market St at Dolores St</td>\n",
       "      <td>37.769305</td>\n",
       "      <td>-122.426826</td>\n",
       "      <td>3.0</td>\n",
       "      <td>Powell St BART Station (Market St at 4th St)</td>\n",
       "      <td>37.786375</td>\n",
       "      <td>-122.404904</td>\n",
       "      <td>5905</td>\n",
       "      <td>Customer</td>\n",
       "      <td>1972.0</td>\n",
       "      <td>Male</td>\n",
       "      <td>No</td>\n",
       "    </tr>\n",
       "  </tbody>\n",
       "</table>\n",
       "</div>"
      ],
      "text/plain": [
       "   duration_sec                start_time                  end_time  \\\n",
       "0         52185  2019-02-28 17:32:10.1450  2019-03-01 08:01:55.9750   \n",
       "2         61854  2019-02-28 12:13:13.2180  2019-03-01 05:24:08.1460   \n",
       "\n",
       "   start_station_id                                start_station_name  \\\n",
       "0              21.0  Montgomery St BART Station (Market St at 2nd St)   \n",
       "2              86.0                           Market St at Dolores St   \n",
       "\n",
       "   start_station_latitude  start_station_longitude  end_station_id  \\\n",
       "0               37.789625              -122.400811            13.0   \n",
       "2               37.769305              -122.426826             3.0   \n",
       "\n",
       "                               end_station_name  end_station_latitude  \\\n",
       "0                Commercial St at Montgomery St             37.794231   \n",
       "2  Powell St BART Station (Market St at 4th St)             37.786375   \n",
       "\n",
       "   end_station_longitude  bike_id user_type  member_birth_year member_gender  \\\n",
       "0            -122.402923     4902  Customer             1984.0          Male   \n",
       "2            -122.404904     5905  Customer             1972.0          Male   \n",
       "\n",
       "  bike_share_for_all_trip  \n",
       "0                      No  \n",
       "2                      No  "
      ]
     },
     "execution_count": 18,
     "metadata": {},
     "output_type": "execute_result"
    }
   ],
   "source": [
    "bike_data.head(2)"
   ]
  },
  {
   "cell_type": "code",
   "execution_count": 20,
   "metadata": {},
   "outputs": [],
   "source": [
    "#Change data types and drop zeros at the end of elements in and member_birth_year,start_station_id,end_station_id.\n",
    "bike_data=bike_data.astype({'start_station_id':'int','end_station_id':'int','member_birth_year':'int'})"
   ]
  },
  {
   "cell_type": "code",
   "execution_count": 21,
   "metadata": {},
   "outputs": [
    {
     "data": {
      "text/html": [
       "<div>\n",
       "<style scoped>\n",
       "    .dataframe tbody tr th:only-of-type {\n",
       "        vertical-align: middle;\n",
       "    }\n",
       "\n",
       "    .dataframe tbody tr th {\n",
       "        vertical-align: top;\n",
       "    }\n",
       "\n",
       "    .dataframe thead th {\n",
       "        text-align: right;\n",
       "    }\n",
       "</style>\n",
       "<table border=\"1\" class=\"dataframe\">\n",
       "  <thead>\n",
       "    <tr style=\"text-align: right;\">\n",
       "      <th></th>\n",
       "      <th>duration_sec</th>\n",
       "      <th>start_time</th>\n",
       "      <th>end_time</th>\n",
       "      <th>start_station_id</th>\n",
       "      <th>start_station_name</th>\n",
       "      <th>start_station_latitude</th>\n",
       "      <th>start_station_longitude</th>\n",
       "      <th>end_station_id</th>\n",
       "      <th>end_station_name</th>\n",
       "      <th>end_station_latitude</th>\n",
       "      <th>end_station_longitude</th>\n",
       "      <th>bike_id</th>\n",
       "      <th>user_type</th>\n",
       "      <th>member_birth_year</th>\n",
       "      <th>member_gender</th>\n",
       "      <th>bike_share_for_all_trip</th>\n",
       "    </tr>\n",
       "  </thead>\n",
       "  <tbody>\n",
       "    <tr>\n",
       "      <th>0</th>\n",
       "      <td>52185</td>\n",
       "      <td>2019-02-28 17:32:10.1450</td>\n",
       "      <td>2019-03-01 08:01:55.9750</td>\n",
       "      <td>21</td>\n",
       "      <td>Montgomery St BART Station (Market St at 2nd St)</td>\n",
       "      <td>37.789625</td>\n",
       "      <td>-122.400811</td>\n",
       "      <td>13</td>\n",
       "      <td>Commercial St at Montgomery St</td>\n",
       "      <td>37.794231</td>\n",
       "      <td>-122.402923</td>\n",
       "      <td>4902</td>\n",
       "      <td>Customer</td>\n",
       "      <td>1984</td>\n",
       "      <td>Male</td>\n",
       "      <td>No</td>\n",
       "    </tr>\n",
       "    <tr>\n",
       "      <th>2</th>\n",
       "      <td>61854</td>\n",
       "      <td>2019-02-28 12:13:13.2180</td>\n",
       "      <td>2019-03-01 05:24:08.1460</td>\n",
       "      <td>86</td>\n",
       "      <td>Market St at Dolores St</td>\n",
       "      <td>37.769305</td>\n",
       "      <td>-122.426826</td>\n",
       "      <td>3</td>\n",
       "      <td>Powell St BART Station (Market St at 4th St)</td>\n",
       "      <td>37.786375</td>\n",
       "      <td>-122.404904</td>\n",
       "      <td>5905</td>\n",
       "      <td>Customer</td>\n",
       "      <td>1972</td>\n",
       "      <td>Male</td>\n",
       "      <td>No</td>\n",
       "    </tr>\n",
       "  </tbody>\n",
       "</table>\n",
       "</div>"
      ],
      "text/plain": [
       "   duration_sec                start_time                  end_time  \\\n",
       "0         52185  2019-02-28 17:32:10.1450  2019-03-01 08:01:55.9750   \n",
       "2         61854  2019-02-28 12:13:13.2180  2019-03-01 05:24:08.1460   \n",
       "\n",
       "   start_station_id                                start_station_name  \\\n",
       "0                21  Montgomery St BART Station (Market St at 2nd St)   \n",
       "2                86                           Market St at Dolores St   \n",
       "\n",
       "   start_station_latitude  start_station_longitude  end_station_id  \\\n",
       "0               37.789625              -122.400811              13   \n",
       "2               37.769305              -122.426826               3   \n",
       "\n",
       "                               end_station_name  end_station_latitude  \\\n",
       "0                Commercial St at Montgomery St             37.794231   \n",
       "2  Powell St BART Station (Market St at 4th St)             37.786375   \n",
       "\n",
       "   end_station_longitude  bike_id user_type  member_birth_year member_gender  \\\n",
       "0            -122.402923     4902  Customer               1984          Male   \n",
       "2            -122.404904     5905  Customer               1972          Male   \n",
       "\n",
       "  bike_share_for_all_trip  \n",
       "0                      No  \n",
       "2                      No  "
      ]
     },
     "execution_count": 21,
     "metadata": {},
     "output_type": "execute_result"
    }
   ],
   "source": [
    "#Verify changes to integer\n",
    "bike_data.head(2)"
   ]
  },
  {
   "cell_type": "markdown",
   "metadata": {},
   "source": [
    "We use the start dates and the year of birth to find the age"
   ]
  },
  {
   "cell_type": "code",
   "execution_count": 22,
   "metadata": {
    "scrolled": true
   },
   "outputs": [
    {
     "name": "stdout",
     "output_type": "stream",
     "text": [
      "latest yr of birth: 2001\n",
      "Earliest yr of birth: 1878\n"
     ]
    }
   ],
   "source": [
    "print('latest yr of birth:' ,bike_data['member_birth_year'].max())\n",
    "print('Earliest yr of birth:' ,bike_data['member_birth_year'].min())"
   ]
  },
  {
   "cell_type": "code",
   "execution_count": 23,
   "metadata": {
    "scrolled": true
   },
   "outputs": [],
   "source": [
    "#compute the age of riders at the time of starting and create a column for it\n",
    "start_years=bike_data['start_time'].apply(lambda x: x.split('-')[0]).astype(int)\n",
    "bike_data['age']=start_years-bike_data['member_birth_year']"
   ]
  },
  {
   "cell_type": "code",
   "execution_count": 24,
   "metadata": {},
   "outputs": [
    {
     "data": {
      "text/plain": [
       "count    174952.000000\n",
       "mean         34.196865\n",
       "std          10.118731\n",
       "min          18.000000\n",
       "25%          27.000000\n",
       "50%          32.000000\n",
       "75%          39.000000\n",
       "max         141.000000\n",
       "Name: age, dtype: float64"
      ]
     },
     "execution_count": 24,
     "metadata": {},
     "output_type": "execute_result"
    }
   ],
   "source": [
    "#sammary statistics for 'age'\n",
    "bike_data['age'].describe()"
   ]
  },
  {
   "cell_type": "markdown",
   "metadata": {},
   "source": [
    "The age of 141 is very high. It is not practicle, therefore, we will limit the age"
   ]
  },
  {
   "cell_type": "markdown",
   "metadata": {},
   "source": [
    "### What is the structure of your dataset?\n",
    "\n",
    "The data is about individual riding duration. It contains 183412 rows and 16 columns. This translates to 183412 different durations. For each duration, we have other information such as the end and start locations and ids, start and end times, the bike id and the year of birth of the rider among others.\n",
    "\n",
    "The quantitative variables are duration in seconds and age while the rest are categorical variables.\n",
    "\n",
    "### What is the main feature of interest in your dataset?\n",
    "\n",
    "The main feature of interest is the duration. I will be looking at features that would affect the duration of riding the bike.\n",
    "\n",
    "### What features in the dataset do you think will help support your investigation into your feature(s) of interest?\n",
    "\n",
    "I hope that the age, gender, start_station_id,user_type,bike_share_for_all_trip, will be among the main features that would help be investigate the duration."
   ]
  },
  {
   "cell_type": "markdown",
   "metadata": {},
   "source": [
    "## Univariate Exploration\n",
    "\n",
    "In this section, investigate distributions of individual variables. \n",
    "\n",
    "\n",
    "**Duration of riding**\n",
    "\n",
    "First, we look at the distribution of the duration_sec"
   ]
  },
  {
   "cell_type": "code",
   "execution_count": 25,
   "metadata": {},
   "outputs": [
    {
     "data": {
      "text/html": [
       "<div>\n",
       "<style scoped>\n",
       "    .dataframe tbody tr th:only-of-type {\n",
       "        vertical-align: middle;\n",
       "    }\n",
       "\n",
       "    .dataframe tbody tr th {\n",
       "        vertical-align: top;\n",
       "    }\n",
       "\n",
       "    .dataframe thead th {\n",
       "        text-align: right;\n",
       "    }\n",
       "</style>\n",
       "<table border=\"1\" class=\"dataframe\">\n",
       "  <thead>\n",
       "    <tr style=\"text-align: right;\">\n",
       "      <th></th>\n",
       "      <th>duration_sec</th>\n",
       "      <th>start_station_id</th>\n",
       "      <th>start_station_latitude</th>\n",
       "      <th>start_station_longitude</th>\n",
       "      <th>end_station_id</th>\n",
       "      <th>end_station_latitude</th>\n",
       "      <th>end_station_longitude</th>\n",
       "      <th>bike_id</th>\n",
       "      <th>member_birth_year</th>\n",
       "      <th>age</th>\n",
       "    </tr>\n",
       "  </thead>\n",
       "  <tbody>\n",
       "    <tr>\n",
       "      <th>count</th>\n",
       "      <td>174952.000000</td>\n",
       "      <td>174952.000000</td>\n",
       "      <td>174952.000000</td>\n",
       "      <td>174952.000000</td>\n",
       "      <td>174952.000000</td>\n",
       "      <td>174952.000000</td>\n",
       "      <td>174952.000000</td>\n",
       "      <td>174952.000000</td>\n",
       "      <td>174952.000000</td>\n",
       "      <td>174952.000000</td>\n",
       "    </tr>\n",
       "    <tr>\n",
       "      <th>mean</th>\n",
       "      <td>704.002744</td>\n",
       "      <td>139.002126</td>\n",
       "      <td>37.771220</td>\n",
       "      <td>-122.351760</td>\n",
       "      <td>136.604486</td>\n",
       "      <td>37.771414</td>\n",
       "      <td>-122.351335</td>\n",
       "      <td>4482.587555</td>\n",
       "      <td>1984.803135</td>\n",
       "      <td>34.196865</td>\n",
       "    </tr>\n",
       "    <tr>\n",
       "      <th>std</th>\n",
       "      <td>1642.204905</td>\n",
       "      <td>111.648819</td>\n",
       "      <td>0.100391</td>\n",
       "      <td>0.117732</td>\n",
       "      <td>111.335635</td>\n",
       "      <td>0.100295</td>\n",
       "      <td>0.117294</td>\n",
       "      <td>1659.195937</td>\n",
       "      <td>10.118731</td>\n",
       "      <td>10.118731</td>\n",
       "    </tr>\n",
       "    <tr>\n",
       "      <th>min</th>\n",
       "      <td>61.000000</td>\n",
       "      <td>3.000000</td>\n",
       "      <td>37.317298</td>\n",
       "      <td>-122.453704</td>\n",
       "      <td>3.000000</td>\n",
       "      <td>37.317298</td>\n",
       "      <td>-122.453704</td>\n",
       "      <td>11.000000</td>\n",
       "      <td>1878.000000</td>\n",
       "      <td>18.000000</td>\n",
       "    </tr>\n",
       "    <tr>\n",
       "      <th>25%</th>\n",
       "      <td>323.000000</td>\n",
       "      <td>47.000000</td>\n",
       "      <td>37.770407</td>\n",
       "      <td>-122.411901</td>\n",
       "      <td>44.000000</td>\n",
       "      <td>37.770407</td>\n",
       "      <td>-122.411647</td>\n",
       "      <td>3799.000000</td>\n",
       "      <td>1980.000000</td>\n",
       "      <td>27.000000</td>\n",
       "    </tr>\n",
       "    <tr>\n",
       "      <th>50%</th>\n",
       "      <td>510.000000</td>\n",
       "      <td>104.000000</td>\n",
       "      <td>37.780760</td>\n",
       "      <td>-122.398279</td>\n",
       "      <td>101.000000</td>\n",
       "      <td>37.781010</td>\n",
       "      <td>-122.397437</td>\n",
       "      <td>4960.000000</td>\n",
       "      <td>1987.000000</td>\n",
       "      <td>32.000000</td>\n",
       "    </tr>\n",
       "    <tr>\n",
       "      <th>75%</th>\n",
       "      <td>789.000000</td>\n",
       "      <td>239.000000</td>\n",
       "      <td>37.797320</td>\n",
       "      <td>-122.283093</td>\n",
       "      <td>238.000000</td>\n",
       "      <td>37.797673</td>\n",
       "      <td>-122.286533</td>\n",
       "      <td>5505.000000</td>\n",
       "      <td>1992.000000</td>\n",
       "      <td>39.000000</td>\n",
       "    </tr>\n",
       "    <tr>\n",
       "      <th>max</th>\n",
       "      <td>84548.000000</td>\n",
       "      <td>398.000000</td>\n",
       "      <td>37.880222</td>\n",
       "      <td>-121.874119</td>\n",
       "      <td>398.000000</td>\n",
       "      <td>37.880222</td>\n",
       "      <td>-121.874119</td>\n",
       "      <td>6645.000000</td>\n",
       "      <td>2001.000000</td>\n",
       "      <td>141.000000</td>\n",
       "    </tr>\n",
       "  </tbody>\n",
       "</table>\n",
       "</div>"
      ],
      "text/plain": [
       "        duration_sec  start_station_id  start_station_latitude  \\\n",
       "count  174952.000000     174952.000000           174952.000000   \n",
       "mean      704.002744        139.002126               37.771220   \n",
       "std      1642.204905        111.648819                0.100391   \n",
       "min        61.000000          3.000000               37.317298   \n",
       "25%       323.000000         47.000000               37.770407   \n",
       "50%       510.000000        104.000000               37.780760   \n",
       "75%       789.000000        239.000000               37.797320   \n",
       "max     84548.000000        398.000000               37.880222   \n",
       "\n",
       "       start_station_longitude  end_station_id  end_station_latitude  \\\n",
       "count            174952.000000   174952.000000         174952.000000   \n",
       "mean               -122.351760      136.604486             37.771414   \n",
       "std                   0.117732      111.335635              0.100295   \n",
       "min                -122.453704        3.000000             37.317298   \n",
       "25%                -122.411901       44.000000             37.770407   \n",
       "50%                -122.398279      101.000000             37.781010   \n",
       "75%                -122.283093      238.000000             37.797673   \n",
       "max                -121.874119      398.000000             37.880222   \n",
       "\n",
       "       end_station_longitude        bike_id  member_birth_year            age  \n",
       "count          174952.000000  174952.000000      174952.000000  174952.000000  \n",
       "mean             -122.351335    4482.587555        1984.803135      34.196865  \n",
       "std                 0.117294    1659.195937          10.118731      10.118731  \n",
       "min              -122.453704      11.000000        1878.000000      18.000000  \n",
       "25%              -122.411647    3799.000000        1980.000000      27.000000  \n",
       "50%              -122.397437    4960.000000        1987.000000      32.000000  \n",
       "75%              -122.286533    5505.000000        1992.000000      39.000000  \n",
       "max              -121.874119    6645.000000        2001.000000     141.000000  "
      ]
     },
     "execution_count": 25,
     "metadata": {},
     "output_type": "execute_result"
    }
   ],
   "source": [
    "bike_data.describe()"
   ]
  },
  {
   "cell_type": "code",
   "execution_count": 26,
   "metadata": {
    "scrolled": true
   },
   "outputs": [
    {
     "data": {
      "image/png": "[encoded data removed]",
      "text/plain": [
       "<Figure size 432x288 with 1 Axes>"
      ]
     },
     "metadata": {
      "needs_background": "light"
     },
     "output_type": "display_data"
    }
   ],
   "source": [
    "bins_dur=np.arange(61,bike_data['duration_sec'].max()+50,50)\n",
    "plt.hist(data=bike_data, x='duration_sec', bins=bins_dur)\n",
    "plt.ylabel('Frequency')\n",
    "plt.xlabel('duration_sec')\n",
    "plt.xlim((61,3000))\n",
    "plt.title('Distribution of riding duration');"
   ]
  },
  {
   "cell_type": "markdown",
   "metadata": {},
   "source": [
    "We have a long tail to the right. We use the logarithm transformation to check the distribution at the end."
   ]
  },
  {
   "cell_type": "code",
   "execution_count": 27,
   "metadata": {
    "scrolled": true
   },
   "outputs": [
    {
     "data": {
      "text/plain": [
       "count    5.242919\n",
       "mean     2.847574\n",
       "std      3.215427\n",
       "min      1.785330\n",
       "25%      2.509203\n",
       "50%      2.707570\n",
       "75%      2.897077\n",
       "max      4.927103\n",
       "Name: duration_sec, dtype: float64"
      ]
     },
     "execution_count": 27,
     "metadata": {},
     "output_type": "execute_result"
    }
   ],
   "source": [
    "np.log10(bike_data['duration_sec'].describe())"
   ]
  },
  {
   "cell_type": "code",
   "execution_count": 28,
   "metadata": {
    "scrolled": false
   },
   "outputs": [
    {
     "data": {
      "image/png": "[encoded data removed]",
      "text/plain": [
       "<Figure size 432x288 with 1 Axes>"
      ]
     },
     "metadata": {
      "needs_background": "light"
     },
     "output_type": "display_data"
    }
   ],
   "source": [
    "bins_dur=10**np.arange(1.7,4+0.1,0.1)\n",
    "plt.hist(data=bike_data, x='duration_sec', bins=bins_dur)\n",
    "plt.xscale('log')\n",
    "plt.ylabel('duration_sec')\n",
    "plt.xlabel('duration_sec')\n",
    "plt.xticks([100,1000,10000],['100','1000','10000'])\n",
    "plt.title('Distribution of riding duration-transfomed axis');"
   ]
  },
  {
   "cell_type": "markdown",
   "metadata": {},
   "source": [
    "The duration scale is a unimodal data. The highest percentage of the riding durations and between 300 and 600 seconds. Some special cases includes 61 second ride. However, this could be for the elderly.\n",
    "\n",
    "\n",
    "\n",
    "**Age distribution among the riders**\n",
    "\n",
    "Next, we look at the distribution of age of the individual riders. "
   ]
  },
  {
   "cell_type": "code",
   "execution_count": 29,
   "metadata": {},
   "outputs": [
    {
     "data": {
      "text/plain": [
       "count    174952.000000\n",
       "mean         34.196865\n",
       "std          10.118731\n",
       "min          18.000000\n",
       "25%          27.000000\n",
       "50%          32.000000\n",
       "75%          39.000000\n",
       "max         141.000000\n",
       "Name: age, dtype: float64"
      ]
     },
     "execution_count": 29,
     "metadata": {},
     "output_type": "execute_result"
    }
   ],
   "source": [
    "bike_data['age'].describe()"
   ]
  },
  {
   "cell_type": "markdown",
   "metadata": {},
   "source": [
    "The age of the riders go beyong 100. We have highest age as 141. This is not real. In most cases, the oldest person that can ride a bike may not go beyond 80 years. Therefore, we will limit the age to 80 years old."
   ]
  },
  {
   "cell_type": "code",
   "execution_count": 30,
   "metadata": {
    "scrolled": true
   },
   "outputs": [
    {
     "data": {
      "image/png": "[encoded data removed]",
      "text/plain": [
       "<Figure size 432x288 with 1 Axes>"
      ]
     },
     "metadata": {
      "needs_background": "light"
     },
     "output_type": "display_data"
    }
   ],
   "source": [
    "bins_age=np.arange(18,90+2,2)\n",
    "plt.hist(data=bike_data, x='age',bins=bins_age)\n",
    "plt.xlabel('age')\n",
    "plt.xlim((0,80))\n",
    "plt.ylabel('count')\n",
    "plt.title('Distribution of age');"
   ]
  },
  {
   "cell_type": "markdown",
   "metadata": {},
   "source": [
    "The highest frequncy is about 33 years.The distribution of the age that do a lot of bike riding is a unimodal. The highest percentage of bike riders are between 25 and 35 years old. Its worthy noting that we also have some riders beyond 70 years.\n"
   ]
  },
  {
   "cell_type": "markdown",
   "metadata": {},
   "source": [
    "**Gender distribution among the riders**\n",
    "\n",
    "We look at the distribution of gender among the riders"
   ]
  },
  {
   "cell_type": "code",
   "execution_count": 31,
   "metadata": {},
   "outputs": [
    {
     "data": {
      "text/plain": [
       "Male      130500\n",
       "Female     40805\n",
       "Other       3647\n",
       "Name: member_gender, dtype: int64"
      ]
     },
     "execution_count": 31,
     "metadata": {},
     "output_type": "execute_result"
    }
   ],
   "source": [
    "sex_counts=bike_data['member_gender'].value_counts()\n",
    "sex_counts"
   ]
  },
  {
   "cell_type": "code",
   "execution_count": 32,
   "metadata": {},
   "outputs": [
    {
     "data": {
      "image/png": "[encoded data removed]",
      "text/plain": [
       "<Figure size 432x288 with 1 Axes>"
      ]
     },
     "metadata": {},
     "output_type": "display_data"
    }
   ],
   "source": [
    "plt.pie(sex_counts, labels=sex_counts.index,startangle=0, counterclock=False)\n",
    "plt.axis('square')\n",
    "plt.title('Distribution of gender among the riders');\n"
   ]
  },
  {
   "cell_type": "markdown",
   "metadata": {},
   "source": [
    "The highest percentage of riders are male. This comprises of more than half of the riders while the female riders are slightly less than a quarter of all the rider. The other gender are very few compared with the total number of riders.\n",
    "\n",
    "\n",
    "**Type of Bike riders**\n",
    "\n",
    "We also look at the types of bike riders"
   ]
  },
  {
   "cell_type": "code",
   "execution_count": 33,
   "metadata": {},
   "outputs": [
    {
     "data": {
      "text/plain": [
       "Subscriber    158386\n",
       "Customer       16566\n",
       "Name: user_type, dtype: int64"
      ]
     },
     "execution_count": 33,
     "metadata": {},
     "output_type": "execute_result"
    }
   ],
   "source": [
    "usertype_counts=bike_data['user_type'].value_counts()\n",
    "usertype_counts"
   ]
  },
  {
   "cell_type": "code",
   "execution_count": 34,
   "metadata": {},
   "outputs": [
    {
     "data": {
      "image/png": "[encoded data removed]",
      "text/plain": [
       "<Figure size 432x288 with 1 Axes>"
      ]
     },
     "metadata": {},
     "output_type": "display_data"
    }
   ],
   "source": [
    "plt.pie(usertype_counts, labels=usertype_counts.index,startangle=0, counterclock=False)\n",
    "plt.axis('square')\n",
    "plt.title('Distribution of type of riders');"
   ]
  },
  {
   "cell_type": "markdown",
   "metadata": {},
   "source": [
    "The majority of the riders are subscribers. Those that are not subcriber as very few; comprising of less than a quarter of all the riders. \n",
    "\n",
    "**Bike sharing during all the trips**\n",
    "\n",
    "We now look at bike sharing for all the trips. "
   ]
  },
  {
   "cell_type": "code",
   "execution_count": 35,
   "metadata": {},
   "outputs": [
    {
     "data": {
      "text/plain": [
       "No     157606\n",
       "Yes     17346\n",
       "Name: bike_share_for_all_trip, dtype: int64"
      ]
     },
     "execution_count": 35,
     "metadata": {},
     "output_type": "execute_result"
    }
   ],
   "source": [
    "bike_data['bike_share_for_all_trip'].value_counts() "
   ]
  },
  {
   "cell_type": "code",
   "execution_count": 36,
   "metadata": {
    "scrolled": true
   },
   "outputs": [
    {
     "data": {
      "image/png": "[encoded data removed]",
      "text/plain": [
       "<Figure size 432x288 with 1 Axes>"
      ]
     },
     "metadata": {},
     "output_type": "display_data"
    }
   ],
   "source": [
    "share_count=bike_data['bike_share_for_all_trip'].value_counts().values \n",
    "labels=bike_data['bike_share_for_all_trip'].value_counts().index\n",
    "plt.pie(share_count, labels=labels,startangle=90, wedgeprops={'width':0.4})\n",
    "plt.title('Bike sharing during a trip');"
   ]
  },
  {
   "cell_type": "markdown",
   "metadata": {},
   "source": [
    "In more that 80% cases, the riders do not share the bike, while less than 20% share the bike during a trip. \n"
   ]
  },
  {
   "cell_type": "markdown",
   "metadata": {},
   "source": [
    "**Common starting points ids**\n",
    "\n",
    "We also consider the common starting points. There are many unqiue starting points ids, therefore, we will only look the 12 most commonly used stations as starting points."
   ]
  },
  {
   "cell_type": "code",
   "execution_count": 37,
   "metadata": {},
   "outputs": [
    {
     "data": {
      "text/plain": [
       "58     3649\n",
       "67     3408\n",
       "81     2952\n",
       "21     2711\n",
       "3      2620\n",
       "30     2577\n",
       "15     2541\n",
       "22     2216\n",
       "16     2191\n",
       "5      2144\n",
       "6      1975\n",
       "239    1761\n",
       "Name: start_station_id, dtype: int64"
      ]
     },
     "execution_count": 37,
     "metadata": {},
     "output_type": "execute_result"
    }
   ],
   "source": [
    "#first 12 common startin points\n",
    "start_pointsid=bike_data['start_station_id'].value_counts()[:12]\n",
    "start_pointsid"
   ]
  },
  {
   "cell_type": "markdown",
   "metadata": {},
   "source": [
    "We order the bars in ascending order beginning with start station that has the highest number of riders"
   ]
  },
  {
   "cell_type": "code",
   "execution_count": 38,
   "metadata": {
    "scrolled": true
   },
   "outputs": [
    {
     "data": {
      "image/png": "[encoded data removed]",
      "text/plain": [
       "<Figure size 432x288 with 1 Axes>"
      ]
     },
     "metadata": {
      "needs_background": "light"
     },
     "output_type": "display_data"
    }
   ],
   "source": [
    "color1=sns.color_palette()[-1]\n",
    "sns.countplot(data=bike_data, y='start_station_id',order=start_pointsid.index, color=color1);\n",
    "plt.title('Number of riders in 12 common start stations');"
   ]
  },
  {
   "cell_type": "markdown",
   "metadata": {},
   "source": [
    "The most common starting point is station id 58. The first 12 common starting points have more than 1500 starting incidences. We found that 12 common used starting points have heard at least 1761 starting incidences. "
   ]
  },
  {
   "cell_type": "markdown",
   "metadata": {},
   "source": [
    "### Discuss the distribution(s) of your variable(s) of interest. Were there any unusual points? Did you need to perform any transformations?\n",
    "\n",
    "The variable of interest is the duration of riding. The distribution of the riders depicts a unimodal distribution that is skewed to the right. Most riders ride between 300 and 600 seconds. That translates to 5 minutes to 10 minutes. Due to a long tail at the right, we transformed the data to a log distribution to clearly see the distribution to the right. We found no feature of graph that was significant.\n",
    "\n",
    "\n",
    "### Of the features you investigated, were there any unusual distributions? Did you perform any operations on the data to tidy, adjust, or change the form of the data? If so, why did you do this?\n",
    "\n",
    "We were investigating the age, sex, bike_share, bike_share_for_all_trip, bike_id, user_type and start_station_id.\n",
    "The age distribution was unimodal with the highest percentage of riders being aged between 25 and 35 years old. The were also some riders that were aged beyond 80 years. To get the age column, we subtracted the year of birth from the year of starting the ride. Therefore, we had to clean the two columns to have them years as an integer, then perform vectorised subtraction. \n",
    "\n",
    "Next, we investigated the gender. We only computed the pdSeries.value_counts() function which gave use the nature of the data. Then we used the piechart to get the distribution of gender. We found that about three quarters of the riders are male while the female are about a quarter. We also found a small percentage of less than 10 representing the other gender.\n",
    "\n",
    "We also looked at the type of bike riders. We only found two types; the subscribers and the customers. More than 80% of the riders were subscribers while the customers were less than 20%. \n",
    "\n",
    "We also looked at the composition of riders based on those that share the bike share for all trip compared to those that do not. We find that more than 80% of the riders do not share the bike while less than 20% share the at least bike for all the trip.  \n",
    "\n",
    "Finally, we looked the common starting points for the riders. We found that the most common point for starting is station id 58 with 3649 starting incidences. The starting points were many, as such, we only picked the first 12 points that had the highest starting incidences. We found that 12 common used starting points have heard at least 1761 starting incidences. \n",
    "\n",
    "On distribution of gender, we found that about three quarters of the riders are male while the female are about a quarter. We also found a small percentage of less than 10 representing the other gender.\n",
    "\n",
    "We also looked at the  type of bike riders. We only found two type; the subscribers and the customers. We found that more than 80% of the riders are subscribers while the customers were less than 20%. \n",
    "\n",
    "We also looked at the composition of riders based on those that share the bike share for all trip compared to those that do not. We find that more than 80% of the riders to not share the bike while less than 20% share the at least bike for all the trip.  \n",
    "\n",
    "Finally, we looked the common starting points for the riders. We found that the most common point for starting is station id 58 with 3649 starting incidences. The starting points were many, as such, we only picked the first 12 points that has the highest starting incidences. We found that 12 common used starting points have heard at least 1761 starting incidences. "
   ]
  },
  {
   "cell_type": "markdown",
   "metadata": {},
   "source": [
    "## Bivariate Exploration\n",
    "\n",
    "In this section, we investigate the relationships between the riding durations and other variables such as the age, gender, user type, bike sharing and the counts of starting point ids. We will investigate two variables at ago. \n",
    "\n",
    "**Duration and age**\n",
    "\n",
    "We investigate the correlation between the duration and age. We limit the age to 80 years old"
   ]
  },
  {
   "cell_type": "code",
   "execution_count": 39,
   "metadata": {},
   "outputs": [
    {
     "data": {
      "text/html": [
       "<div>\n",
       "<style scoped>\n",
       "    .dataframe tbody tr th:only-of-type {\n",
       "        vertical-align: middle;\n",
       "    }\n",
       "\n",
       "    .dataframe tbody tr th {\n",
       "        vertical-align: top;\n",
       "    }\n",
       "\n",
       "    .dataframe thead th {\n",
       "        text-align: right;\n",
       "    }\n",
       "</style>\n",
       "<table border=\"1\" class=\"dataframe\">\n",
       "  <thead>\n",
       "    <tr style=\"text-align: right;\">\n",
       "      <th></th>\n",
       "      <th>age</th>\n",
       "      <th>duration_sec</th>\n",
       "    </tr>\n",
       "  </thead>\n",
       "  <tbody>\n",
       "    <tr>\n",
       "      <th>count</th>\n",
       "      <td>174952.000000</td>\n",
       "      <td>174952.000000</td>\n",
       "    </tr>\n",
       "    <tr>\n",
       "      <th>mean</th>\n",
       "      <td>34.196865</td>\n",
       "      <td>704.002744</td>\n",
       "    </tr>\n",
       "    <tr>\n",
       "      <th>std</th>\n",
       "      <td>10.118731</td>\n",
       "      <td>1642.204905</td>\n",
       "    </tr>\n",
       "    <tr>\n",
       "      <th>min</th>\n",
       "      <td>18.000000</td>\n",
       "      <td>61.000000</td>\n",
       "    </tr>\n",
       "    <tr>\n",
       "      <th>25%</th>\n",
       "      <td>27.000000</td>\n",
       "      <td>323.000000</td>\n",
       "    </tr>\n",
       "    <tr>\n",
       "      <th>50%</th>\n",
       "      <td>32.000000</td>\n",
       "      <td>510.000000</td>\n",
       "    </tr>\n",
       "    <tr>\n",
       "      <th>75%</th>\n",
       "      <td>39.000000</td>\n",
       "      <td>789.000000</td>\n",
       "    </tr>\n",
       "    <tr>\n",
       "      <th>max</th>\n",
       "      <td>141.000000</td>\n",
       "      <td>84548.000000</td>\n",
       "    </tr>\n",
       "  </tbody>\n",
       "</table>\n",
       "</div>"
      ],
      "text/plain": [
       "                 age   duration_sec\n",
       "count  174952.000000  174952.000000\n",
       "mean       34.196865     704.002744\n",
       "std        10.118731    1642.204905\n",
       "min        18.000000      61.000000\n",
       "25%        27.000000     323.000000\n",
       "50%        32.000000     510.000000\n",
       "75%        39.000000     789.000000\n",
       "max       141.000000   84548.000000"
      ]
     },
     "execution_count": 39,
     "metadata": {},
     "output_type": "execute_result"
    }
   ],
   "source": [
    "bike_data[['age','duration_sec']].describe()"
   ]
  },
  {
   "cell_type": "code",
   "execution_count": 40,
   "metadata": {
    "scrolled": false
   },
   "outputs": [
    {
     "data": {
      "image/png": "[encoded data removed]",
      "text/plain": [
       "<Figure size 432x288 with 2 Axes>"
      ]
     },
     "metadata": {
      "needs_background": "light"
     },
     "output_type": "display_data"
    }
   ],
   "source": [
    "def heat_duration_g(ourdata,x_column,xbin_,ybin_ ):    \n",
    "    plt.hist2d(data=ourdata, x=str(x_column), y='duration_sec', cmin=0.5, cmap='viridis_r', bins=[xbin_, ybin_])\n",
    "    plt.xlabel(str(x_column))    \n",
    "    plt.xlim((0,80))\n",
    "    \n",
    "    \n",
    "xbins_bi=np.arange(18,80+4,4)\n",
    "ybins_bi=np.arange(61,bike_data['duration_sec'].max()+3000,3000)\n",
    "heat_duration_g(bike_data,'age',xbins_bi,ybins_bi)\n",
    "plt.colorbar();\n",
    "plt.ylabel('duration of ride(sec)')\n",
    "plt.title('Association of age and duration of riding');"
   ]
  },
  {
   "cell_type": "markdown",
   "metadata": {},
   "source": [
    "From the plot, we find that the majority of the riders ride for less than 5000 seconds. We also find that younger people rides much more than older ones. Furthermore, they even ride extremely longer hours comparied to older ones. We also found that older poeple rarely rides for more than 10000 seconds.\n"
   ]
  },
  {
   "cell_type": "markdown",
   "metadata": {},
   "source": [
    "**Age and gender**\n",
    "\n",
    "We create a plot to investigate how gender varies with age"
   ]
  },
  {
   "cell_type": "code",
   "execution_count": 41,
   "metadata": {},
   "outputs": [
    {
     "data": {
      "image/png": "[encoded data removed]",
      "text/plain": [
       "<Figure size 288x288 with 1 Axes>"
      ]
     },
     "metadata": {
      "needs_background": "light"
     },
     "output_type": "display_data"
    }
   ],
   "source": [
    "#Use bar plot\n",
    "fig6=plt.figure(figsize=(4,4))\n",
    "sns.barplot(data=bike_data, x='member_gender', y='age', estimator=np.mean)\n",
    "plt.xticks(rotation=30)\n",
    "plt.ylabel('Age')\n",
    "plt.title('Association of age and gender among the riders');"
   ]
  },
  {
   "cell_type": "markdown",
   "metadata": {},
   "source": [
    "We found that there is no significance difference in mean age among the majority of riders that are male, famele or other gender. However, we find that the other gender riders has the highest mean age followed by male and finally the ladies.\n",
    "\n",
    "**Duration and gender**\n",
    "\n",
    "Next, we look the comparison durations taken riding for different gender\n"
   ]
  },
  {
   "cell_type": "code",
   "execution_count": 42,
   "metadata": {},
   "outputs": [
    {
     "data": {
      "image/png": "[encoded data removed]",
      "text/plain": [
       "<Figure size 864x288 with 2 Axes>"
      ]
     },
     "metadata": {
      "needs_background": "light"
     },
     "output_type": "display_data"
    }
   ],
   "source": [
    "#function for violin plot\n",
    "def violin_plot_fun(xcol,color2,ylim_lower,ylim_upper):\n",
    "    sns.violinplot(data=bike_data, y='duration_sec', x=str(xcol), color=color2)\n",
    "    plt.ylim((int(ylim_lower),int(ylim_upper)))\n",
    "\n",
    "def box_plot_fun(xcol,color2,ylim_lower,ylim_upper):\n",
    "    sns.boxplot(data=bike_data, y='duration_sec', x=str(xcol), color=color2)\n",
    "    plt.ylim((int(ylim_lower),int(ylim_upper)))\n",
    "\n",
    "    \n",
    "#plot for for duration and member gender    \n",
    "color_gender=sns.color_palette()[-2]\n",
    "\n",
    "\n",
    "plt.figure(figsize=[12,4])\n",
    "\n",
    "plt.subplot(1,2,1)\n",
    "violin_plot_fun('member_gender',color_gender,-1400, 5000)\n",
    "\n",
    "plt.subplot(1,2,2)\n",
    "box_plot_fun('member_gender',color_gender,-1400, 5000)\n",
    "plt.suptitle('Association of riding duration and gender among the riders'); \n",
    "\n",
    "\n"
   ]
  },
  {
   "cell_type": "markdown",
   "metadata": {},
   "source": [
    "We found that the majority of the female riders takes slighly more time riding that the their male and other gender. \n",
    "\n",
    "\n",
    "**Duration and user types**\n",
    "\n",
    "We investigate the duration of riding by different bike user types"
   ]
  },
  {
   "cell_type": "code",
   "execution_count": 43,
   "metadata": {},
   "outputs": [
    {
     "data": {
      "image/png": "[encoded data removed]",
      "text/plain": [
       "<Figure size 864x288 with 2 Axes>"
      ]
     },
     "metadata": {
      "needs_background": "light"
     },
     "output_type": "display_data"
    }
   ],
   "source": [
    "#plot for for duration and member gender    \n",
    "color_user=sns.color_palette()[0]\n",
    "plt.figure(figsize=[12,4])\n",
    "\n",
    "plt.subplot(1,2,1)\n",
    "violin_plot_fun('user_type',color_user,-1400, 5000)\n",
    "\n",
    "\n",
    "plt.subplot(1,2,2)\n",
    "box_plot_fun('user_type',color_user,-1400, 5000)\n",
    "\n",
    "plt.suptitle('Association of riding duration and user type among the riders'); \n",
    "\n"
   ]
  },
  {
   "cell_type": "markdown",
   "metadata": {},
   "source": [
    "From the plots above, we find that the customers ride for longer hours than the suscribers. Further, the mean number of customers is slightly higher than that of the subscribers. \n",
    "\n",
    "\n",
    "**Duration and bike sharing during all the trips**\n",
    "\n",
    "We also investigate the time taken by the riders for those that shared and those that do not share bikes during all the trips."
   ]
  },
  {
   "cell_type": "code",
   "execution_count": 44,
   "metadata": {},
   "outputs": [
    {
     "data": {
      "image/png": "[encoded data removed]",
      "text/plain": [
       "<Figure size 432x288 with 1 Axes>"
      ]
     },
     "metadata": {
      "needs_background": "light"
     },
     "output_type": "display_data"
    }
   ],
   "source": [
    "color_share=sns.color_palette()[-1]\n",
    "box_plot_fun('bike_share_for_all_trip',color_share,-500, 1700)\n",
    "plt.title(' Association of riding duration and bike sharing among the riders'); "
   ]
  },
  {
   "cell_type": "markdown",
   "metadata": {},
   "source": [
    "We find that those that do not share the bike rides for slightly longer hours compared to those that share the bikes. \n",
    "\n",
    "\n",
    "**Duration and Common starting points ids**\n",
    "\n",
    "We only investigate the the first 12 start point ids that are common "
   ]
  },
  {
   "cell_type": "code",
   "execution_count": 45,
   "metadata": {
    "scrolled": true
   },
   "outputs": [
    {
     "data": {
      "text/plain": [
       "[58, 67, 81, 21, 3, 30, 15, 22, 16, 5, 6, 239]"
      ]
     },
     "execution_count": 45,
     "metadata": {},
     "output_type": "execute_result"
    }
   ],
   "source": [
    "best12_ids=list(bike_data['start_station_id'].value_counts().index[:12])\n",
    "best12_ids"
   ]
  },
  {
   "cell_type": "code",
   "execution_count": 46,
   "metadata": {},
   "outputs": [],
   "source": [
    "bike_data_12pts=bike_data[bike_data['start_station_id'].isin(best12_ids)]"
   ]
  },
  {
   "cell_type": "code",
   "execution_count": 47,
   "metadata": {},
   "outputs": [
    {
     "data": {
      "text/plain": [
       "count    30745.000000\n",
       "mean       721.239454\n",
       "std       1640.347861\n",
       "min         61.000000\n",
       "25%        372.000000\n",
       "50%        544.000000\n",
       "75%        774.000000\n",
       "max      84548.000000\n",
       "Name: duration_sec, dtype: float64"
      ]
     },
     "execution_count": 47,
     "metadata": {},
     "output_type": "execute_result"
    }
   ],
   "source": [
    "bike_data_12pts['duration_sec'].describe()"
   ]
  },
  {
   "cell_type": "code",
   "execution_count": 48,
   "metadata": {},
   "outputs": [],
   "source": [
    "order=start_pointsid"
   ]
  },
  {
   "cell_type": "markdown",
   "metadata": {},
   "source": [
    "Majority of the data sets are less than 2500, therefore, we limit the duration to up to 2500 to view the distribution."
   ]
  },
  {
   "cell_type": "code",
   "execution_count": 49,
   "metadata": {},
   "outputs": [
    {
     "data": {
      "image/png": "[encoded data removed]",
      "text/plain": [
       "<Figure size 1296x432 with 12 Axes>"
      ]
     },
     "metadata": {
      "needs_background": "light"
     },
     "output_type": "display_data"
    }
   ],
   "source": [
    "#first 12 common startin points  \n",
    "bins_=np.arange(61,2500+200,200)\n",
    "fig2=sns.FacetGrid(data=bike_data_12pts, col_order=start_pointsid.index, col='start_station_id', col_wrap=6)\n",
    "fig2.map(plt.hist, 'duration_sec',bins=bins_)\n",
    "plt.xlim((0,2500))\n",
    "fig2.fig.subplots_adjust(top=0.85)\n",
    "fig2.fig.suptitle('Association of riding duration and different start stations'); "
   ]
  },
  {
   "cell_type": "markdown",
   "metadata": {},
   "source": [
    "The starting id stations are arranged in order from those that have the largest count of starting incidences to the least among the 12 best stations that have the highest number of starting incidences. \n",
    "\n",
    "We find that the majority of the starting points having the largest amount of least points have one of the largest durations taken by the riders. The riders who began from the most common starting points rode very long hours as compared to those whose rode for long hours from the least common starting points. The first three most common starting point ids have quite large durations but the remaining ones decrease by a significant magin, from between 1000 to 1200 seconds to between 600 and 900 seconds and finally from 400 to 700 seconds. However, the third least station, station id 5, has slighlt higher riding durations that last 6."
   ]
  },
  {
   "cell_type": "markdown",
   "metadata": {},
   "source": [
    "### Talk about some of the relationships you observed in this part of the investigation. How did the feature(s) of interest vary with other features in the dataset?\n",
    "\n",
    "In this section, our interest was on how duration od rifing varies with respect to other variables. When investgating duration and age, we found that the majority of the riders ride for less than 10000 seconds. We also found that the younger people rides much more than older ones. Further more, they even ride extremely longer hours comparied to older ones. We also found that older poeple rarely rides for more than 10000 seconds. Those that are more than 50 years hardly rides for longer hours.\n",
    "\n",
    "When investigating duration and gender distribution, we found that on in general female riders takes slighly more time riding that the male and other gender.\n",
    "\n",
    "When investigating the duration and the user types, we found that the customers rides longer than the subscribers. On the other hand, we found that the riders that do not share the bike rides for longer hours than those that shares the bike. \n",
    "\n",
    "Finally, while investigating the duration of riding in relation to different 12 major starting points, we found that the majority of the starting points having the largest amount of least points have the largest durations taken by the riders. The riders who began from the most common starting points rode for long hours as compared to those that began from the least common starting points. The first three most common starting point ids have quite large durations but the remaining ones decrease by a significant magin, from between 1000 to 1200 seconds to between 600 and 900 seconds and finally from 400 to 700 seconds. However, the third least station, station id 5, has slighlt higher riding durations that last 6.\n",
    "\n",
    "\n",
    "\n",
    "\n",
    "\n",
    "\n",
    "### Did you observe any interesting relationships between the other features (not the main feature(s) of interest)?\n",
    "\n",
    "We only investigated the relationship between age and gender. We found that there is no significance difference in mean age among the majority of riders that are male, famele or other gender. However, we find that the other gender riders has the highest mean age followed by male and finally the ladies."
   ]
  },
  {
   "cell_type": "markdown",
   "metadata": {},
   "source": [
    "## Multivariate Exploration\n",
    "\n",
    "In this section, we investigate the relationships between the riding durations and other variables such as the age, gender, user type, bike sharing and the counts of starting point ids. We will investigate three or more variables at ago.\n",
    "\n",
    "**Duration, age and gender**"
   ]
  },
  {
   "cell_type": "code",
   "execution_count": 50,
   "metadata": {},
   "outputs": [
    {
     "data": {
      "text/plain": [
       "Male      130500\n",
       "Female     40805\n",
       "Other       3647\n",
       "Name: member_gender, dtype: int64"
      ]
     },
     "execution_count": 50,
     "metadata": {},
     "output_type": "execute_result"
    }
   ],
   "source": [
    "bike_data['member_gender'].value_counts()"
   ]
  },
  {
   "cell_type": "code",
   "execution_count": 51,
   "metadata": {},
   "outputs": [],
   "source": [
    "#create data frames for different genders\n",
    "bike_data_male=bike_data[bike_data['member_gender']=='Male']\n",
    "bike_data_female=bike_data[bike_data['member_gender']=='Female']\n",
    "bike_data_other=bike_data[bike_data['member_gender']=='Other']"
   ]
  },
  {
   "cell_type": "code",
   "execution_count": 52,
   "metadata": {
    "scrolled": true
   },
   "outputs": [
    {
     "data": {
      "image/png": "[encoded data removed]",
      "text/plain": [
       "<Figure size 1440x360 with 4 Axes>"
      ]
     },
     "metadata": {
      "needs_background": "light"
     },
     "output_type": "display_data"
    }
   ],
   "source": [
    "xbins_mul=np.arange(18,80+4,4)\n",
    "ybins_mul=np.arange(61,bike_data['duration_sec'].max()+3000,3000)\n",
    "\n",
    "#We use the function for heatmap defined above\n",
    "\n",
    "fig3 =plt.figure(figsize=(20,5))\n",
    "plt.subplot(1,3,1)\n",
    "heat_duration_g(bike_data_male,'age',xbins_mul,ybins_mul)\n",
    "plt.title('Male')\n",
    "plt.ylabel('duration of ride(sec)')\n",
    "\n",
    "plt.subplot(1,3,2)\n",
    "heat_duration_g(bike_data_female,'age',xbins_mul,ybins_mul)\n",
    "plt.title('Female') \n",
    "\n",
    "plt.subplot(1,3,3)\n",
    "heat_duration_g(bike_data_other,'age',xbins_mul,ybins_mul)\n",
    "plt.title('Other gender')\n",
    "plt.colorbar()\n",
    "\n",
    "plt.subplots_adjust(top=0.85)\n",
    "plt.suptitle('Association of riding duration, age and gender types') ;\n"
   ]
  },
  {
   "cell_type": "markdown",
   "metadata": {},
   "source": [
    "There are more yellow squares in the male plot followed by the female and finally the other plot. The highest density of the plots is between 20 and 50. This implies that more male riders between the age of 20 and 50 rides more than their female and other gender. The density square fades as we move to the right of each curve implying that more male between 20 and 50 rides compared to female and other gender rides especially. The least is appears in the other gender.  \n",
    "\n",
    "We also  see darker colors below 10000 mark for all the graphs implying that there majority of riders do it for less than 10000 or 5000 seconds to be precise. The happens in all the gender categories. \n",
    "\n",
    "We also notice that below the 10000 duration mark, slightly darker color between 50 and 60 for other gender than the other two. This implies that among the riders that rides for less than 10000 seconds, more adults in the other gender rides more than the male and famele counterpart."
   ]
  },
  {
   "cell_type": "markdown",
   "metadata": {},
   "source": [
    "**Duration, age and user type**"
   ]
  },
  {
   "cell_type": "code",
   "execution_count": 53,
   "metadata": {},
   "outputs": [
    {
     "data": {
      "text/plain": [
       "Subscriber    158386\n",
       "Customer       16566\n",
       "Name: user_type, dtype: int64"
      ]
     },
     "execution_count": 53,
     "metadata": {},
     "output_type": "execute_result"
    }
   ],
   "source": [
    "bike_data['user_type'].value_counts()"
   ]
  },
  {
   "cell_type": "code",
   "execution_count": 54,
   "metadata": {},
   "outputs": [],
   "source": [
    "#create data frames for different user types\n",
    "bike_data_Subscriber=bike_data[bike_data['user_type']=='Subscriber']\n",
    "bike_data_Customer=bike_data[bike_data['user_type']=='Customer']"
   ]
  },
  {
   "cell_type": "code",
   "execution_count": 55,
   "metadata": {},
   "outputs": [
    {
     "data": {
      "image/png": "[encoded data removed]",
      "text/plain": [
       "<Figure size 864x288 with 3 Axes>"
      ]
     },
     "metadata": {
      "needs_background": "light"
     },
     "output_type": "display_data"
    }
   ],
   "source": [
    "#We use the function for heatmap defined above\n",
    "\n",
    "fig3 =plt.figure(figsize=(12,4))\n",
    "plt.subplot(1,2,1)\n",
    "heat_duration_g(bike_data_Subscriber,'age',xbins_mul,ybins_mul)\n",
    "plt.title('Subscriber')\n",
    "plt.ylabel('duration of ride(sec)')\n",
    "\n",
    "plt.subplot(1,2,2)\n",
    "heat_duration_g(bike_data_Customer,'age',xbins_mul,ybins_mul)\n",
    "plt.title('Customer')\n",
    "\n",
    "plt.colorbar()\n",
    "plt.subplots_adjust(top=0.85)\n",
    "plt.suptitle('Association of duration, age and user type') ;"
   ]
  },
  {
   "cell_type": "markdown",
   "metadata": {},
   "source": [
    "The subscriber's graph has more data points below 10000 mark as well as above 10000. This implies that within a specific age, for instance, 20 to 45 years, there are more subscriber riders than customers. Furthermore, the most subscribers rides for long hours than the customers. Between the age of about 25 to 35 years, we have the majority of subscribers than the customer riders.\n"
   ]
  },
  {
   "cell_type": "markdown",
   "metadata": {},
   "source": [
    "**Duration, age and bike sharing during all the trips**"
   ]
  },
  {
   "cell_type": "code",
   "execution_count": 56,
   "metadata": {},
   "outputs": [
    {
     "data": {
      "text/plain": [
       "No     157606\n",
       "Yes     17346\n",
       "Name: bike_share_for_all_trip, dtype: int64"
      ]
     },
     "execution_count": 56,
     "metadata": {},
     "output_type": "execute_result"
    }
   ],
   "source": [
    "bike_data['bike_share_for_all_trip'].value_counts()"
   ]
  },
  {
   "cell_type": "code",
   "execution_count": 57,
   "metadata": {},
   "outputs": [],
   "source": [
    "#create data frames for different user types\n",
    "bike_data_Share_n=bike_data[bike_data['bike_share_for_all_trip']=='No']\n",
    "bike_data_Share_y=bike_data[bike_data['bike_share_for_all_trip']=='Yes']"
   ]
  },
  {
   "cell_type": "code",
   "execution_count": 58,
   "metadata": {},
   "outputs": [
    {
     "data": {
      "image/png": "[encoded data removed]",
      "text/plain": [
       "<Figure size 936x288 with 3 Axes>"
      ]
     },
     "metadata": {
      "needs_background": "light"
     },
     "output_type": "display_data"
    }
   ],
   "source": [
    "#We use the function for heatmap defined above\n",
    "\n",
    "fig3 =plt.figure(figsize=(13,4))\n",
    "plt.subplot(1,2,1)\n",
    "heat_duration_g(bike_data_Share_n,'age',xbins_mul,ybins_mul)\n",
    "plt.title('No')\n",
    "plt.ylabel('duration of ride(sec)')\n",
    "\n",
    "plt.subplot(1,2,2)\n",
    "heat_duration_g(bike_data_Share_y,'age',xbins_mul,ybins_mul)\n",
    "plt.title('Yes')\n",
    "\n",
    "plt.colorbar()\n",
    "plt.subplots_adjust(top=0.85)\n",
    "plt.suptitle('Association of riding duration, age and bike share for all trips') ;"
   ]
  },
  {
   "cell_type": "markdown",
   "metadata": {},
   "source": [
    "In the plot above, we find that in general, across all ages, we have fewer riders sharing bikes than those that do not share. However, the majority are between about 21 and 30 years old. Among those that do not share, we have the majority of riders being above 30 years old while the majority of those that share are below 25 years old."
   ]
  },
  {
   "cell_type": "markdown",
   "metadata": {},
   "source": [
    "**Duration, gender and bike sharing during all the trips**"
   ]
  },
  {
   "cell_type": "code",
   "execution_count": 59,
   "metadata": {},
   "outputs": [
    {
     "data": {
      "text/plain": [
       "Text(0.5, 1.0, 'Association of riding duration, gender and bike sharing among the riders')"
      ]
     },
     "execution_count": 59,
     "metadata": {},
     "output_type": "execute_result"
    },
    {
     "data": {
      "image/png": "[encoded data removed]",
      "text/plain": [
       "<Figure size 576x432 with 1 Axes>"
      ]
     },
     "metadata": {
      "needs_background": "light"
     },
     "output_type": "display_data"
    }
   ],
   "source": [
    "#Use bar plot\n",
    "fig6=plt.figure(figsize=(8,6))\n",
    "sns.barplot(data=bike_data_12pts, x='bike_share_for_all_trip', y='duration_sec',hue='member_gender', ci=0, estimator=np.mean)\n",
    "plt.xticks(rotation=30)\n",
    "plt.ylabel('Duration (seconds)');\n",
    "plt.title('Association of riding duration, gender and bike sharing among the riders') "
   ]
  },
  {
   "cell_type": "markdown",
   "metadata": {},
   "source": [
    "From the graph above, we find that among the male is the lowest gender category that both shared and do not share a bike. The other gender has the highest everage riding hours among the riders that share the bike while this is less than the corresponding category among those that do not share a bike. On the other hand, among those that do not share a bike, the female has the highest mean while their number is smaller compared to the female tat share the bike. "
   ]
  },
  {
   "cell_type": "markdown",
   "metadata": {},
   "source": [
    "**Duration, user type and Common starting station ids**"
   ]
  },
  {
   "cell_type": "code",
   "execution_count": 60,
   "metadata": {
    "scrolled": false
   },
   "outputs": [
    {
     "data": {
      "image/png": "[encoded data removed]",
      "text/plain": [
       "<Figure size 864x432 with 1 Axes>"
      ]
     },
     "metadata": {
      "needs_background": "light"
     },
     "output_type": "display_data"
    }
   ],
   "source": [
    "#Use clusted bar plot\n",
    "fig6=plt.figure(figsize=(12,6))\n",
    "sns.barplot(data=bike_data_12pts, x='start_station_id', y='duration_sec',hue='member_gender', ci=0, order=best12_ids)\n",
    "plt.xticks(rotation=30)\n",
    "plt.ylabel('Duration (seconds)')\n",
    "plt.title('Association of riding duration, gender and starting station ids') \n",
    "plt.legend(title='Gender');"
   ]
  },
  {
   "cell_type": "markdown",
   "metadata": {},
   "source": [
    "From the plot, the male riders rides for a shorter period for almost all the starter stations while the other gender has the highest number of durations across almost all starting stations. It is also evident that despite station 58 being one that have the highest number of riders, it has the lowest average riding duration across all the 12 stations. This implies that the majority of the riders from the station must be riding for shorter periods of time. In general, start stations having the highest number of starting riders do not have higher average riding durations. "
   ]
  },
  {
   "cell_type": "markdown",
   "metadata": {},
   "source": [
    "### Talk about some of the relationships you observed in this part of the investigation. Were there features that strengthened each other in terms of looking at your feature(s) of interest?\n",
    "\n",
    "From the plots, we have found that the more male riders between the age of 20 and 50 rides more than their female and other gender. the highest number of riders across all gender are rides for less than 10000 seconds. We also found that between 50 and 60 years, we have more other gender riding for less than 10000 than the males and females.  \n",
    "We also found that within the most riding age group, we have more subscribers than the custmers riders.\n",
    "\n",
    "We have also found that across all ages, we have fewer riders sharing bikes than those that do not share. However, the majority are between about 21 and 30 years old. Among those that do not share, we have the majority of riders being above 30 years od while the majority of those that share are below 25 years old.\n",
    "\n",
    "Finally, we have found that the male riders rides for a shorter period for almost all the starter stations while the other gender has the highest number of durations across almost all starting stations. It is also evident that despite station 58 being one that have the highest number of riders, it has the lowest average riding duration across all the 12 stations. This implies that the majority of the riders from the station must be riding for shorter periods of time. \n",
    "\n",
    "\n",
    "### Were there any interesting or surprising interactions between features?\n",
    "The most interesting feature was that the male, despite being known to be masculine and more energetic than the other genders, rides for averagely shorter period than the female and the other gender. \n",
    "Another interesting feature that the start stations that has most riders do not have the highest averaging riding duration. However, most riders go for a shorter time compared to the other 11 most common starting points.\n"
   ]
  },
  {
   "cell_type": "markdown",
   "metadata": {},
   "source": [
    "## Conclusions\n"
   ]
  },
  {
   "cell_type": "markdown",
   "metadata": {},
   "source": [
    "We analysed the Ford bike data using visualizations. The visualizations were univariate, bivariate and also multivariate. \n",
    "We bagan with univarate visualizations. We found that most rider rides between 300 and 600 seconds. These were mainly the age group between 25 and 35 years. In addition, we found that about three quarter of the riders are male while the female were almost equal to a quarter of all the riders. We also have the other gender whose percetage was less than 10%.\n",
    "We also established that there were two types of riders, the subscriber and the customers where the subscribers were composed of about 80% of all the riders. During the riding there are riders that shared the bike and those that did not. We found that those that share the bike were about 80% of the riders. We also establashed that there were 12 common starting stations whith the highest having 3649 riders and the twelfth one having 1761 riders.\n",
    "\n",
    "Next, we looked at the association of two variable, different variable and the riding duration. We found that across all ages, most riders rode for less than 10000 seconds with the male between 25 and 35 being the majority. This is the most riding age group. On the other hand, the Customers were the user type that rode for longer time than the subscribers. Furthermore, the riders that rode for longer hours are those that did not share the bike. We established that the most common starting stations had very long riding hours compared to the longest hours attained by those in least common stations.\n",
    "\n",
    "Finally, we also looked at associations having three variables. We found that the more male riders between the age of 20 and 50 rode more than the female and other gender. The highest number of riders across all gender are rode for less than 5000 seconds. We also found that between 50 and 60 years, we have more other gender riding for less than 5000 than the males and females. We also found that within the most riding age group, we have more subscribers than the customers riders.\n",
    "\n",
    "While considering bike sharing, we found that across all ages, we had fewer riders sharing bikes than those that did not share the bike, however, the majority were between about 21 and 30 years old. Among those that did not sharea bike, we had the majority of riders being above 30 years old while the majority of those that share are below 25 years old.\n",
    "\n",
    "While looking starter stations, we found that the male riders rode for a shorter period while the other gender has the highest number of durations across almost all starting stations. It was also evident that despite station 58 being one that had the highest number of riders, it had the lowest average riding duration across all the 12 stations. This implied that the majority of the riders from the station must have been riding for shorter periods of time. \n",
    "\n",
    "The most interesting feature was that on average, the male rode for a shorter period than the female and the other gender. This is against the expectation because male are expected to ride for longer than female given their masculinity. Another interesting points that the common start has long riding hours but on evarage, it has the shortest riding hours. This implied that short time riders used the station leading to the low average."
   ]
  }
 ],
 "metadata": {
  "kernelspec": {
   "display_name": "Python 3 (ipykernel)",
   "language": "python",
   "name": "python3"
  },
  "language_info": {
   "codemirror_mode": {
    "name": "ipython",
    "version": 3
   },
   "file_extension": ".py",
   "mimetype": "text/x-python",
   "name": "python",
   "nbconvert_exporter": "python",
   "pygments_lexer": "ipython3",
   "version": "3.7.13"
  }
 },
 "nbformat": 4,
 "nbformat_minor": 2
}
